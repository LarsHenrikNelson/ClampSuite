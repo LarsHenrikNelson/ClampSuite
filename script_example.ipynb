{
 "cells": [
  {
   "attachments": {},
   "cell_type": "markdown",
   "metadata": {},
   "source": [
    "\n",
    "This how to use the experiment manager ExpManager to load or analyze data. To load files just provide the analysis type and a file path in str, PurePath, or Path or a list or tuple of file paths."
   ]
  },
  {
   "cell_type": "code",
   "execution_count": null,
   "metadata": {},
   "outputs": [],
   "source": [
    "# Import\n",
    "import matplotlib.pyplot as plt\n",
    "\n",
    "from clampsuite import ExpManager"
   ]
  },
  {
   "cell_type": "code",
   "execution_count": null,
   "metadata": {},
   "outputs": [],
   "source": [
    "# Create an instance of the ExpManager\n",
    "exp_manager = ExpManager()"
   ]
  },
  {
   "cell_type": "code",
   "execution_count": null,
   "metadata": {},
   "outputs": [],
   "source": [
    "# Create a list of file paths\n",
    "file_paths = [f\"my/path/to_file/AD_{i}.mat\" for i in range(1, 11)]\n",
    "exp_manager.create_exp(analysis=\"mini\", file=file_paths)\n"
   ]
  },
  {
   "cell_type": "code",
   "execution_count": null,
   "metadata": {},
   "outputs": [],
   "source": [
    "# Analyze mini acquistions using default settings.\n",
    "# To specify settings just add the need keyword arguments.\n",
    "exp_manager.analyze_exp(\"mini\")\n"
   ]
  },
  {
   "cell_type": "code",
   "execution_count": null,
   "metadata": {},
   "outputs": [],
   "source": [
    "# Run the final analysis if want that data\n",
    "exp_manager.run_final_analysis()"
   ]
  },
  {
   "cell_type": "code",
   "execution_count": null,
   "metadata": {},
   "outputs": [],
   "source": [
    "# Save individual parts of the data\n",
    "exp_manager.save_acqs(\"my/path/to_folder\")\n",
    "exp_manager.save_final_analysis(\"my/path/to_folder\")\n",
    "exp_manager.save_ui_prefs(\"my/path/to_folder\")\n"
   ]
  },
  {
   "cell_type": "code",
   "execution_count": null,
   "metadata": {},
   "outputs": [],
   "source": [
    "# Save all data at once\n",
    "exp_manager.save_data(\"my/path/to_folder\")\n"
   ]
  },
  {
   "cell_type": "code",
   "execution_count": null,
   "metadata": {},
   "outputs": [],
   "source": [
    "# Load existing \"mini\" data from ClampSuite\n",
    "# Note that a yaml file needs to be include.\n",
    "# If you just want to load acquisitions then use load_acq\n",
    "# or load_acqs\n",
    "file_path = \"my/path/to_folder\"\n",
    "exp_manager.load_final_analysis(\"mini\", file_path)\n",
    "\n"
   ]
  },
  {
   "cell_type": "code",
   "execution_count": null,
   "metadata": {},
   "outputs": [],
   "source": [
    "# Load a single acquisition\n",
    "acq = ExpManager.load_acq(\n",
    "    analysis=\"mini\",\n",
    "    path=r\"my/path/to_folder/AD_0.mat\",\n",
    ")\n"
   ]
  },
  {
   "cell_type": "code",
   "execution_count": null,
   "metadata": {},
   "outputs": [],
   "source": [
    "# Load a multiple acquisition, returns a dictionary\n",
    "file_paths = [f\"my/path/to_file/AD_{i}.json\" for i in range(1, 11)]\n",
    "acq = ExpManager.load_acqs(\n",
    "    analysis=\"mini\",\n",
    "    file_path=file_paths,\n",
    ")"
   ]
  },
  {
   "cell_type": "code",
   "execution_count": null,
   "metadata": {},
   "outputs": [],
   "source": [
    "# Plot a single acquisition\n",
    "plt.plot(acq.plot_acq_x(), acq.plot_acq_y())"
   ]
  }
 ],
 "metadata": {
  "language_info": {
   "codemirror_mode": {
    "name": "ipython",
    "version": 3
   },
   "file_extension": ".py",
   "mimetype": "text/x-python",
   "name": "python",
   "nbconvert_exporter": "python",
   "pygments_lexer": "ipython3",
   "version": 3
  },
  "orig_nbformat": 4
 },
 "nbformat": 4,
 "nbformat_minor": 2
}
